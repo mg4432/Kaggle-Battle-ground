{
 "cells": [
  {
   "cell_type": "code",
   "execution_count": 1,
   "id": "7cd3ef6e",
   "metadata": {
    "execution": {
     "iopub.execute_input": "2023-03-21T06:07:54.347616Z",
     "iopub.status.busy": "2023-03-21T06:07:54.346689Z",
     "iopub.status.idle": "2023-03-21T06:07:54.366391Z",
     "shell.execute_reply": "2023-03-21T06:07:54.365235Z"
    },
    "papermill": {
     "duration": 0.027134,
     "end_time": "2023-03-21T06:07:54.369266",
     "exception": false,
     "start_time": "2023-03-21T06:07:54.342132",
     "status": "completed"
    },
    "tags": []
   },
   "outputs": [],
   "source": [
    "def postprocessing_func(df, m) : \n",
    "    match_data = df[df['matchId'].values == m]\n",
    "    num = match_data['maxPlace'].values[0]\n",
    "    \n",
    "    # empty  \n",
    "    Maxplace = match_data.iloc[0]['maxPlace']\n",
    "    Numgroups = match_data.iloc[0]['numGroups']\n",
    "    t = Maxplace - Numgroups\n",
    "    pivot = np.int(np.round((Maxplace - t)/(t+1)))\n",
    "    indices = []\n",
    "    for i in range(1, t+1) : \n",
    "        indices.append(i*pivot)\n",
    "        \n",
    "    match_data = match_data[['groupId', 'winPlacePercPred']].drop_duplicates()\n",
    "    match_data = match_data.groupby('groupId')['winPlacePercPred'].mean().to_frame()\n",
    "    match_data = match_data.sort_values(by = 'winPlacePercPred', ascending = False).reset_index()\n",
    "    \n",
    "    winPlace = np.linspace(0, 1, num = int(num), endpoint = True).tolist()\n",
    "    winPlace = list(reversed(winPlace))\n",
    "    remove_lst = [] \n",
    "    for idx in indices :\n",
    "        remove_lst.append(winPlace[idx])\n",
    "        \n",
    "    for val in remove_lst : \n",
    "        if val in winPlace : \n",
    "            winPlace.remove(val)\n",
    "        \n",
    "    match_data['pred_winPlace'] = pd.Series(winPlace)\n",
    "    \n",
    "    pred_dict = match_data[['groupId', 'pred_winPlace']].set_index(['groupId']).to_dict()['pred_winPlace']\n",
    "    rank_dictionary.update(pred_dict)\n",
    "    \n",
    "    return  "
   ]
  }
 ],
 "metadata": {
  "kernelspec": {
   "display_name": "Python 3",
   "language": "python",
   "name": "python3"
  },
  "language_info": {
   "codemirror_mode": {
    "name": "ipython",
    "version": 3
   },
   "file_extension": ".py",
   "mimetype": "text/x-python",
   "name": "python",
   "nbconvert_exporter": "python",
   "pygments_lexer": "ipython3",
   "version": "3.7.12"
  },
  "papermill": {
   "default_parameters": {},
   "duration": 10.867907,
   "end_time": "2023-03-21T06:07:55.093901",
   "environment_variables": {},
   "exception": null,
   "input_path": "__notebook__.ipynb",
   "output_path": "__notebook__.ipynb",
   "parameters": {},
   "start_time": "2023-03-21T06:07:44.225994",
   "version": "2.4.0"
  }
 },
 "nbformat": 4,
 "nbformat_minor": 5
}
