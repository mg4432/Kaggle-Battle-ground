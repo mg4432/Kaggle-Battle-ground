{
 "cells": [
  {
   "cell_type": "code",
   "execution_count": 1,
   "id": "b091f655",
   "metadata": {
    "_cell_guid": "b1076dfc-b9ad-4769-8c92-a6c4dae69d19",
    "_uuid": "8f2839f25d086af736a60e9eeb907d3b93b6e0e5",
    "execution": {
     "iopub.execute_input": "2023-03-21T05:43:41.541048Z",
     "iopub.status.busy": "2023-03-21T05:43:41.540615Z",
     "iopub.status.idle": "2023-03-21T05:43:41.555589Z",
     "shell.execute_reply": "2023-03-21T05:43:41.553925Z"
    },
    "papermill": {
     "duration": 0.022921,
     "end_time": "2023-03-21T05:43:41.558241",
     "exception": false,
     "start_time": "2023-03-21T05:43:41.535320",
     "status": "completed"
    },
    "tags": []
   },
   "outputs": [
    {
     "name": "stdout",
     "output_type": "stream",
     "text": [
      "/kaggle/input/pubg-finish-placement-prediction/train_V2.csv\n",
      "/kaggle/input/pubg-finish-placement-prediction/test_V2.csv\n",
      "/kaggle/input/pubg-finish-placement-prediction/sample_submission_V2.csv\n"
     ]
    }
   ],
   "source": [
    "# This Python 3 environment comes with many helpful analytics libraries installed\n",
    "# It is defined by the kaggle/python Docker image: https://github.com/kaggle/docker-python\n",
    "# For example, here's several helpful packages to load\n",
    "\n",
    "import numpy as np # linear algebra\n",
    "import pandas as pd # data processing, CSV file I/O (e.g. pd.read_csv)\n",
    "\n",
    "# Input data files are available in the read-only \"../input/\" directory\n",
    "# For example, running this (by clicking run or pressing Shift+Enter) will list all files under the input directory\n",
    "\n",
    "import os\n",
    "for dirname, _, filenames in os.walk('/kaggle/input'):\n",
    "    for filename in filenames:\n",
    "        print(os.path.join(dirname, filename))\n",
    "\n",
    "# You can write up to 20GB to the current directory (/kaggle/working/) that gets preserved as output when you create a version using \"Save & Run All\" \n",
    "# You can also write temporary files to /kaggle/temp/, but they won't be saved outside of the current session"
   ]
  },
  {
   "cell_type": "code",
   "execution_count": 2,
   "id": "2b5c1b31",
   "metadata": {
    "execution": {
     "iopub.execute_input": "2023-03-21T05:43:41.565569Z",
     "iopub.status.busy": "2023-03-21T05:43:41.564600Z",
     "iopub.status.idle": "2023-03-21T05:44:17.307849Z",
     "shell.execute_reply": "2023-03-21T05:44:17.306411Z"
    },
    "papermill": {
     "duration": 35.749826,
     "end_time": "2023-03-21T05:44:17.310859",
     "exception": false,
     "start_time": "2023-03-21T05:43:41.561033",
     "status": "completed"
    },
    "tags": []
   },
   "outputs": [],
   "source": [
    "import numpy as np \n",
    "import pandas as pd \n",
    "import warnings \n",
    "warnings.filterwarnings('ignore')\n",
    "from sklearn.model_selection import train_test_split\n",
    "\n",
    "train = pd.read_csv('/kaggle/input/pubg-finish-placement-prediction/train_V2.csv')\n",
    "test = pd.read_csv('/kaggle/input/pubg-finish-placement-prediction/test_V2.csv')"
   ]
  },
  {
   "cell_type": "code",
   "execution_count": 3,
   "id": "422edefa",
   "metadata": {
    "execution": {
     "iopub.execute_input": "2023-03-21T05:44:17.318130Z",
     "iopub.status.busy": "2023-03-21T05:44:17.317480Z",
     "iopub.status.idle": "2023-03-21T05:44:18.108815Z",
     "shell.execute_reply": "2023-03-21T05:44:18.107530Z"
    },
    "papermill": {
     "duration": 0.798095,
     "end_time": "2023-03-21T05:44:18.111685",
     "exception": false,
     "start_time": "2023-03-21T05:44:17.313590",
     "status": "completed"
    },
    "tags": []
   },
   "outputs": [],
   "source": [
    "train.drop(['Id', 'groupId', 'matchId', 'matchType'], axis = 1, inplace = True)\n",
    "test.drop(['Id', 'groupId', 'matchId', 'matchType'], axis = 1, inplace = True)"
   ]
  },
  {
   "cell_type": "code",
   "execution_count": 4,
   "id": "b7518999",
   "metadata": {
    "execution": {
     "iopub.execute_input": "2023-03-21T05:44:18.119082Z",
     "iopub.status.busy": "2023-03-21T05:44:18.118571Z",
     "iopub.status.idle": "2023-03-21T05:44:20.345225Z",
     "shell.execute_reply": "2023-03-21T05:44:20.343867Z"
    },
    "papermill": {
     "duration": 2.233582,
     "end_time": "2023-03-21T05:44:20.348098",
     "exception": false,
     "start_time": "2023-03-21T05:44:18.114516",
     "status": "completed"
    },
    "tags": []
   },
   "outputs": [],
   "source": [
    "X = train.drop('winPlacePerc', axis = 1) \n",
    "y = train['winPlacePerc']\n",
    "\n",
    "from sklearn.model_selection import train_test_split \n",
    "X_train, X_valid, y_train, y_valid = train_test_split(X, y, \n",
    "                                                      test_size = 0.2)"
   ]
  },
  {
   "cell_type": "code",
   "execution_count": 5,
   "id": "34d12be3",
   "metadata": {
    "execution": {
     "iopub.execute_input": "2023-03-21T05:44:20.354766Z",
     "iopub.status.busy": "2023-03-21T05:44:20.354393Z",
     "iopub.status.idle": "2023-03-21T05:44:59.087548Z",
     "shell.execute_reply": "2023-03-21T05:44:59.086148Z"
    },
    "papermill": {
     "duration": 38.73967,
     "end_time": "2023-03-21T05:44:59.090427",
     "exception": false,
     "start_time": "2023-03-21T05:44:20.350757",
     "status": "completed"
    },
    "tags": []
   },
   "outputs": [
    {
     "data": {
      "text/html": [
       "<style type='text/css'>\n",
       ".datatable table.frame { margin-bottom: 0; }\n",
       ".datatable table.frame thead { border-bottom: none; }\n",
       ".datatable table.frame tr.coltypes td {  color: #FFFFFF;  line-height: 6px;  padding: 0 0.5em;}\n",
       ".datatable .bool    { background: #DDDD99; }\n",
       ".datatable .object  { background: #565656; }\n",
       ".datatable .int     { background: #5D9E5D; }\n",
       ".datatable .float   { background: #4040CC; }\n",
       ".datatable .str     { background: #CC4040; }\n",
       ".datatable .time    { background: #40CC40; }\n",
       ".datatable .row_index {  background: var(--jp-border-color3);  border-right: 1px solid var(--jp-border-color0);  color: var(--jp-ui-font-color3);  font-size: 9px;}\n",
       ".datatable .frame tbody td { text-align: left; }\n",
       ".datatable .frame tr.coltypes .row_index {  background: var(--jp-border-color0);}\n",
       ".datatable th:nth-child(2) { padding-left: 12px; }\n",
       ".datatable .hellipsis {  color: var(--jp-cell-editor-border-color);}\n",
       ".datatable .vellipsis {  background: var(--jp-layout-color0);  color: var(--jp-cell-editor-border-color);}\n",
       ".datatable .na {  color: var(--jp-cell-editor-border-color);  font-size: 80%;}\n",
       ".datatable .sp {  opacity: 0.25;}\n",
       ".datatable .footer { font-size: 9px; }\n",
       ".datatable .frame_dimensions {  background: var(--jp-border-color3);  border-top: 1px solid var(--jp-border-color0);  color: var(--jp-ui-font-color3);  display: inline-block;  opacity: 0.6;  padding: 1px 10px 1px 5px;}\n",
       "</style>\n"
      ],
      "text/plain": [
       "<IPython.core.display.HTML object>"
      ]
     },
     "metadata": {},
     "output_type": "display_data"
    },
    {
     "name": "stdout",
     "output_type": "stream",
     "text": [
      "[10]\ttraining's l1: 0.122748\tvalid_1's l1: 0.122769\n",
      "[20]\ttraining's l1: 0.0815657\tvalid_1's l1: 0.0815957\n",
      "[30]\ttraining's l1: 0.070105\tvalid_1's l1: 0.0701726\n",
      "[40]\ttraining's l1: 0.0662294\tvalid_1's l1: 0.066322\n",
      "[50]\ttraining's l1: 0.0638306\tvalid_1's l1: 0.0639308\n",
      "[60]\ttraining's l1: 0.0625945\tvalid_1's l1: 0.0626938\n",
      "[70]\ttraining's l1: 0.0617079\tvalid_1's l1: 0.0618071\n",
      "[80]\ttraining's l1: 0.0610996\tvalid_1's l1: 0.0612045\n",
      "[90]\ttraining's l1: 0.060659\tvalid_1's l1: 0.0607638\n",
      "[100]\ttraining's l1: 0.0603256\tvalid_1's l1: 0.0604342\n"
     ]
    }
   ],
   "source": [
    "import lightgbm as lgb\n",
    "from sklearn.model_selection import cross_validate\n",
    "lgbm_reg = lgb.LGBMRegressor(random_state = 42, \n",
    "                             metric = 'mae')\n",
    "lgbm_reg.fit(X_train, y_train, \n",
    "             eval_set = [(X_train, y_train), \n",
    "                         (X_valid, y_valid)], \n",
    "             verbose = 10) \n",
    "pred = lgbm_reg.predict(test)"
   ]
  },
  {
   "cell_type": "code",
   "execution_count": 6,
   "id": "11fae354",
   "metadata": {
    "execution": {
     "iopub.execute_input": "2023-03-21T05:44:59.099269Z",
     "iopub.status.busy": "2023-03-21T05:44:59.098890Z",
     "iopub.status.idle": "2023-03-21T05:45:05.237482Z",
     "shell.execute_reply": "2023-03-21T05:45:05.236324Z"
    },
    "papermill": {
     "duration": 6.14651,
     "end_time": "2023-03-21T05:45:05.240607",
     "exception": false,
     "start_time": "2023-03-21T05:44:59.094097",
     "status": "completed"
    },
    "tags": []
   },
   "outputs": [],
   "source": [
    "submission = pd.read_csv('/kaggle/input/pubg-finish-placement-prediction/sample_submission_V2.csv')\n",
    "submission['winPlacePerc'] = pred\n",
    "submission.to_csv('submission.csv', index = False)"
   ]
  }
 ],
 "metadata": {
  "kernelspec": {
   "display_name": "Python 3",
   "language": "python",
   "name": "python3"
  },
  "language_info": {
   "codemirror_mode": {
    "name": "ipython",
    "version": 3
   },
   "file_extension": ".py",
   "mimetype": "text/x-python",
   "name": "python",
   "nbconvert_exporter": "python",
   "pygments_lexer": "ipython3",
   "version": "3.7.12"
  },
  "papermill": {
   "default_parameters": {},
   "duration": 94.964597,
   "end_time": "2023-03-21T05:45:06.166567",
   "environment_variables": {},
   "exception": null,
   "input_path": "__notebook__.ipynb",
   "output_path": "__notebook__.ipynb",
   "parameters": {},
   "start_time": "2023-03-21T05:43:31.201970",
   "version": "2.4.0"
  }
 },
 "nbformat": 4,
 "nbformat_minor": 5
}
